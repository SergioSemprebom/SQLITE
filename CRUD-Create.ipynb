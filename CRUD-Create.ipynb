{
 "cells": [
  {
   "cell_type": "markdown",
   "id": "830e4f56",
   "metadata": {},
   "source": [
    "# Desafio Python e SQL"
   ]
  },
  {
   "cell_type": "markdown",
   "id": "edd415b2",
   "metadata": {},
   "source": [
    "- Create"
   ]
  },
  {
   "cell_type": "code",
   "execution_count": 7,
   "id": "01401861",
   "metadata": {
    "scrolled": true
   },
   "outputs": [
    {
     "name": "stdout",
     "output_type": "stream",
     "text": [
      "['SQL Server', 'MySQL ODBC 8.3 ANSI Driver', 'MySQL ODBC 8.3 Unicode Driver', 'SQL Server Native Client RDA 11.0', 'ODBC Driver 17 for SQL Server', 'ODBC Driver 18 for SQL Server', 'SQLite3 ODBC Driver', 'SQLite ODBC Driver', 'SQLite ODBC (UTF-8) Driver', 'Microsoft Access Driver (*.mdb, *.accdb)', 'Microsoft Excel Driver (*.xls, *.xlsx, *.xlsm, *.xlsb)', 'Microsoft Access Text Driver (*.txt, *.csv)', 'Microsoft Access dBASE Driver (*.dbf, *.ndx, *.mdx)']\n"
     ]
    }
   ],
   "source": [
    "import pyodbc\n",
    "print(pyodbc.drivers())"
   ]
  },
  {
   "cell_type": "code",
   "execution_count": 8,
   "id": "2db2917c",
   "metadata": {
    "scrolled": true
   },
   "outputs": [
    {
     "name": "stdout",
     "output_type": "stream",
     "text": [
      "Conexão bem sucedida\n"
     ]
    }
   ],
   "source": [
    "\n",
    "dados_conexao = (\"Driver={SQLite3 ODBC Driver};\"\n",
    "                \"Server=10.2.41.49;\"\n",
    "                \"Database=chinook.db;\")\n",
    "\n",
    "conexao = pyodbc.connect(dados_conexao)\n",
    "\n",
    "cursor = conexao.cursor()\n",
    "print(\"Conexão bem sucedida\")"
   ]
  },
  {
   "cell_type": "markdown",
   "id": "c27206eb",
   "metadata": {},
   "source": [
    "### CREATE - CRUD"
   ]
  },
  {
   "cell_type": "code",
   "execution_count": 10,
   "id": "4ec171df",
   "metadata": {},
   "outputs": [],
   "source": [
    "cursor.execute(\"\"\"\n",
    "\n",
    "INSERT INTO albums (Title, ArtistId)\n",
    "VALUES\n",
    "('Sergio Gospel', 4)\n",
    "\n",
    "\"\"\")\n",
    "\n",
    "\n",
    "cursor.commit()\n",
    "\n",
    "cursor.close()"
   ]
  },
  {
   "cell_type": "code",
   "execution_count": 11,
   "id": "73d24a1e",
   "metadata": {},
   "outputs": [],
   "source": [
    "#Fechando a conexao --- sempre utilizar\n",
    "conexao.close()\n"
   ]
  },
  {
   "cell_type": "code",
   "execution_count": null,
   "id": "8fc3fe32",
   "metadata": {},
   "outputs": [],
   "source": []
  }
 ],
 "metadata": {
  "kernelspec": {
   "display_name": "Python 3 (ipykernel)",
   "language": "python",
   "name": "python3"
  },
  "language_info": {
   "codemirror_mode": {
    "name": "ipython",
    "version": 3
   },
   "file_extension": ".py",
   "mimetype": "text/x-python",
   "name": "python",
   "nbconvert_exporter": "python",
   "pygments_lexer": "ipython3",
   "version": "3.11.4"
  }
 },
 "nbformat": 4,
 "nbformat_minor": 5
}
